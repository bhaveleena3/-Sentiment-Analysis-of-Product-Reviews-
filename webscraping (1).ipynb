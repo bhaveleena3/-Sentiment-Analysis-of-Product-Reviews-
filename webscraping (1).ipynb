{
 "cells": [
  {
   "cell_type": "code",
   "execution_count": 1,
   "id": "10bc1823-9794-461d-8519-b5ceeaedb135",
   "metadata": {},
   "outputs": [
    {
     "name": "stdout",
     "output_type": "stream",
     "text": [
      " ~ ~ ~ ~ ~ ~ ~ ~ OM SHRI GANESHAAYA NAMAHA ~ ~ ~ ~ ~ ~ ~ ~ ~ \n"
     ]
    }
   ],
   "source": [
    "print(' ~ ~ ~ ~ ~ ~ ~ ~ OM SHRI GANESHAAYA NAMAHA ~ ~ ~ ~ ~ ~ ~ ~ ~ ')"
   ]
  },
  {
   "cell_type": "markdown",
   "id": "871941ca-2305-418b-8480-4dd6f442a40e",
   "metadata": {},
   "source": [
    "##### Task 1: Extract reviews of a given product"
   ]
  },
  {
   "cell_type": "markdown",
   "id": "48ed07e6-f7a0-4e85-8216-57939a302274",
   "metadata": {},
   "source": [
    "#### Import required libraries"
   ]
  },
  {
   "cell_type": "code",
   "execution_count": 87,
   "id": "8feba28f-f7bb-469e-b6be-1645bc9c37da",
   "metadata": {},
   "outputs": [],
   "source": [
    "import pandas as pd\n",
    "import numpy as np\n",
    "import traceback\n",
    "import re\n",
    "import requests\n",
    "\n",
    "from tqdm.notebook import tqdm\n",
    "\n",
    "from bs4 import BeautifulSoup \n",
    "\n",
    "from selenium import webdriver\n",
    "from selenium.webdriver.common.by import By\n",
    "from selenium.webdriver.support.ui import WebDriverWait\n",
    "from selenium.webdriver.support import expected_conditions as EC\n",
    "from selenium.webdriver.firefox.options import Options  \n",
    "from selenium.common.exceptions import TimeoutException\n",
    "\n",
    "import time\n",
    "\n",
    "# from clear_cache import clear_firefox_cache"
   ]
  },
  {
   "cell_type": "markdown",
   "id": "36be3a07-2c47-4e38-bb3c-ec6622d8b995",
   "metadata": {},
   "source": [
    "## <font color='a33668'> <b> Web-scraping for product reviews (Amazon) </b> </font>"
   ]
  },
  {
   "cell_type": "code",
   "execution_count": 3,
   "id": "60d474e0-6321-4259-b175-f52131bf3f77",
   "metadata": {},
   "outputs": [],
   "source": [
    "headers = {'authority': 'www.amazon.in',\n",
    "           'accept-language': 'en-US,en;q=0.9',\n",
    "           'user-agent': 'Mozilla/5.0 (Windows NT 10.0; Win64; x64) AppleWebKit/537.36 (KHTML, like Gecko) Chrome/102.0.0.0 Safari/537.36'}"
   ]
  },
  {
   "cell_type": "code",
   "execution_count": 4,
   "id": "4f0ed548-a36a-46eb-b082-1383446fae47",
   "metadata": {},
   "outputs": [],
   "source": [
    "def get_soup(url):\n",
    "    # Path to the geckodriver executable\n",
    "    geckodriver_path = '/ssg/bin/geckodriver.exe'\n",
    "    # Driver options\n",
    "    options = Options()   \n",
    "    options.add_argument('--headless')\n",
    "    options.add_argument('--start-maximized')\n",
    "    \n",
    "    # Create a Firefox driver\n",
    "    driver = webdriver.Firefox(options=options)\n",
    "    \n",
    "    driver.get(url)\n",
    "    \n",
    "    # Wait for the entire page to load\n",
    "    WebDriverWait(driver, 10).until(EC.presence_of_element_located((By.TAG_NAME, \"body\")))\n",
    "\n",
    "    soup = BeautifulSoup(driver.page_source, 'html.parser')\n",
    "    driver.quit()\n",
    "    return soup\n",
    "\n",
    "reviewlist = []\n",
    "\n",
    "def get_reviews(soup):\n",
    "    reviews = soup.find_all('div', {'data-hook': 'review'})\n",
    "\n",
    "    try:\n",
    "        for item in reviews:\n",
    "            review = {'Rating':float(item.find('i', {'data-hook': 'cmps-review-star-rating'}).text.replace('out of 5 stars', '').strip()),\n",
    "                      'Title': item.find('span', {'data-hook': 'review-title'}).text.strip(),\n",
    "                      'Review':item.find('span', {'data-hook': 'review-body'}).text.strip()}\n",
    "            reviewlist.append(review)\n",
    "    except Exception as e:\n",
    "        traceback.print_exc()\n",
    "        pass"
   ]
  },
  {
   "cell_type": "code",
   "execution_count": 5,
   "id": "b39e7cba-652d-46c3-a803-a47651867b66",
   "metadata": {
    "scrolled": true
   },
   "outputs": [
    {
     "data": {
      "application/vnd.jupyter.widget-view+json": {
       "model_id": "ed696a51e7e6469997c1031b46727ae7",
       "version_major": 2,
       "version_minor": 0
      },
      "text/plain": [
       "  0%|          | 0/1 [00:00<?, ?it/s]"
      ]
     },
     "metadata": {},
     "output_type": "display_data"
    }
   ],
   "source": [
    "for x in tqdm(range(1)):\n",
    "    url_str = f'https://www.amazon.in/product-reviews/B071F49Q2P/ref=cm_cr_unknown?ie=UTF8r&reviewerType=all_reviews&pageNumber={x+1}'\n",
    "    soup = get_soup(url_str) \n",
    "    get_reviews(soup)\n",
    "    if not soup.find('li', {'class': 'a-disabled a-last'}):\n",
    "        pass\n",
    "    else:\n",
    "        break"
   ]
  },
  {
   "cell_type": "code",
   "execution_count": 6,
   "id": "168c4266-83ad-45bb-90ee-4e5e8fd82e94",
   "metadata": {},
   "outputs": [
    {
     "data": {
      "text/plain": [
       "[{'Rating': 5.0,\n",
       "  'Title': 'Good products refurbished  to almost new condition',\n",
       "  'Review': 'all 3 laptops worked as expected  good batteries, nice screen and fast SSD would buy again'},\n",
       " {'Rating': 5.0,\n",
       "  'Title': 'Very Satisfied',\n",
       "  'Review': 'It seems most \"computer\" refurbs are offered here on Amazon through a variety of different sellers under the same listing?  So, for the record, my order was fulfilled through \"Budget Business Computers\".  I\\'ve had the unit for almost a month now.  Unit arrived with a few very minor \"aesthetic\" issues - a couple of small dings and a small scratch on the cover - but all technical details matched the product description, fresh install of Windows 10 Pro, and the computer itself works flawlessly to date.  FWIW, runs a bit \"warm\", as thinner units tend to, and I\\'d say battery life is very  good, but not great.  Overall, I\\'m very satisfied with my purchase.  Great price, quick delivery (International delivery, no less) and in general a decent little secondary, or back-up, machine!'},\n",
       " {'Rating': 4.0,\n",
       "  'Title': 'Very good',\n",
       "  'Review': 'Very good laptop for the price and good service.'},\n",
       " {'Rating': 4.0,\n",
       "  'Title': 'Works very well',\n",
       "  'Review': \"I'm an older, retired individual that just needs a basic machine to shop, surf, run kodi occasionally and send emails. Nothing super duper. I've had this laptop for a couple weeks now and it has worked almost flawlessly. Only glitch is if I leave it for awhile and it goes into sleep mode, it doesn't always wake up properly and runs sluggish. If I restart it, it's fine. That is the only problem I've had. I've had quite a few computers and few have run this well. It's fast to start and has quick performance. Works well running video & audio programs. No WiFi connection problems. Automatically connects everytime. I'm not overly impressed with the sound quality when I have speakers plugged into it; sound is just average, but it's clear. Built in speakers are pretty good for a laptop.Display is average. Not 1080 but good enough.For a $400 laptop, I'm impressed enough to recommend it. 2 thumbs up.\"},\n",
       " {'Rating': 5.0,\n",
       "  'Title': 'My old Dell was on the verge of going bye bye',\n",
       "  'Review': \"My previous Dell Laptop was bought in a drastic emergency situation in the middle of going to online school. It worked great and did the job it needed to do. Finally started to received  strange messages. Time for an update, and found this refurbished dell on Amazon. No scratches when received, it started right up from the get go, internet was easy as can be. The laptop runs really great, perfect for my needs, no longer in school. I really love this laptop, its super fast compared to the last one (which was really old, and used a lot). I don't have any complaints. I was concerned with the size of the screen, since its bright, there are no problems. Picture is fantastic, sound is great for what I use it for. Lost the speakers in my previous Dell Laptop.\"},\n",
       " {'Rating': 5.0,\n",
       "  'Title': 'Great computer for the price.',\n",
       "  'Review': 'Computer arrived earlier than expected. In excellent condition, works great. Have no complaints about this product. Battery seems to be good although it’s most always plugged in so I really can’t say for sure. My hubby  bought the same computer a few years ago and it works great for him too.'},\n",
       " {'Rating': 1.0,\n",
       "  'Title': 'I’m changing my review!  Don’t buy',\n",
       "  'Review': 'Edit: As of May 29th I am returning this laptop, I upgraded it to 16GB of RAM, a WiFi 6 wireless card… and it was getting slower as time went on. Not your typical clean up type slow but everything ran like dirt.The battery was at end of life when I got it and I wasn’t too happy about that, but then the back USB port was flaky.  I went to use it on my car to scan the way the car was running, I flashed a new tune into it and drove to work for 19 minutes without a problem.I go to turn ot on and it’s dead!  I will not power on, I tried all the troubleshooting ideas I could find online. Doesn’t work with or without the battery nor when it’s on AC power.As I read around on this model it seems to be a common issue where they will be working fine one time and the next dead as a door nail.I already put a return in for it due to the battery and the USB port, and the next day it dies.Thankfully I had OneDrive installed and synced to my other Dell laptop so I didn’t lose much data… I put the old ram back in and the old wifi adapter. Plus side is I don’t have to worry about wiping my data off of it!Don’t buy! Look for a better model. I went with an E7470, i7 6600, 16GB of RAM already installed and a 512GB SSD drive.  Twice the specs of this model for $45 more.I have a Dell M4700 mobile workstation and it weighs over 8 pounds fully loaded!  I wanted something a bit lighter that I could use when I didn’t need the performance of the M4700. The i5 isn’t slow but the two downsides are it doesn’t support Win 11 and the WiFi card that is in it doesn’t support WiFi 6 networks, it won’t even see them and Intel doesn’t support it anymore so no updated drivers.I spent $29 on new card that supports WiFi 6 AX-3000 which should make it very fast'},\n",
       " {'Rating': 1.0,\n",
       "  'Title': \"Defective computer, couldn't charge it at all\",\n",
       "  'Review': \"The packaging was fine, the computer looked very good. However, as soon as I opened the box I noticed the characteristic smell of burning/burned electronics, even though the computer was obviously turned off. I assumed it was from the storage where it came from. Anyway, I went ahead and plugged it in the power to charge the battery before I tried to use it. The smell got a little worse, and I still ignored it as I wasn't seeing anything of concern (e.g. smoke, sparks, etc.).After some minutes charging, I noticed that the upper left corner on the keyboard was getting hotter and the smell was coming from there. I thought that the hotter temperature inside was making the smell worse, and I assumed the the charging process was heating up the computer and that it was normal.After some more minutes I decided to turn it on, but for my surprise nothing happened, the power button didn't work at all and the computer seemed dead. I unplugged it, removed the batter and put it back, press the power button again and this time it worked and the computer turned on. Weird, but ok.While booting I pressed F2, checked the BIOS for log messages and there were some related to overheating. Can't tell for sure if this is related because the date/time was way off and I hadn't checked/updated the clock yet. I got concerned though.Unplugged it, rebooted it and let it run Windows update while on battery. When the battery reached ~50% (1h+ remaining), I got an alert saying that the battery was low and the system would shut down. I quickly plugged the power adapter, but it seems that it didn't do anything. Windows update could not even complete all the installations before the computer shut down.Checked the BIOS again and now it said the charger was not detected, but it was plugged into the coputer and to the power. BIOS also reported that the CPU fan was working fine. I used a digital multimeter to test the charger and it's output voltage was ok. More weird.Bottom line, I couldn't recharge the battery neither run on power because the adapter wasn't being detected. I bet the burning smell was coming from the internal circuit that connects the power adapter. The end result is that I can't use the computer at all.In the end I decided to stop troubleshooting and return the item before I had more unpleasant surprises. I went online and bought a brand new one from Dell (still waiting for it to be delivered).\"},\n",
       " {'Rating': 2.0,\n",
       "  'Title': 'Battery does not last for more than 10 min. without power connected',\n",
       "  'Review': 'first time used on battery power it craps out within 10 min.Nice Laptop otherwise.  Trying to get this replaced under the warranty.  Dell Latitude E7440Will update on outcome'},\n",
       " {'Rating': 5.0,\n",
       "  'Title': 'Clean image, fast machine, great price',\n",
       "  'Review': \"Just like the E7400 series laptop I've been using for the last three years, but at less than half the price. I'm impressed with MicroBee refurbisher.  The machine had been recently re-imaged without Dell add-ware/bloat-ware. It came with W10 1903 including all recent updates. On seeing the internet for the first time, the only thing it downloaded was 3 driver updates!! The laptop itself is usual high quality Dell, indistinguishable from new, and probably better (newer image) than if bought direct from Dell. No trouble with W10 activation. Came with an upgraded power brick (has a lighted ring on the plug). Of course the SSD makes everything fly. Refurbisher packaging was excellent with useful, clear contact info that I did NOT have to use.\"}]"
      ]
     },
     "execution_count": 6,
     "metadata": {},
     "output_type": "execute_result"
    }
   ],
   "source": [
    "reviewlist"
   ]
  },
  {
   "cell_type": "markdown",
   "id": "3791b22f-5162-4a74-a03d-9e4d26309521",
   "metadata": {},
   "source": [
    "## <font color='a33668'> <b> Web-scraping for product reviews (Dell) </b> </font>"
   ]
  },
  {
   "cell_type": "markdown",
   "id": "75886c33-fcdb-4f1f-92dd-6fe483343401",
   "metadata": {},
   "source": [
    "### <font color='a33668'> Scraping code </font>"
   ]
  },
  {
   "cell_type": "code",
   "execution_count": 148,
   "id": "efb696e4-4207-4664-807d-d07c9cbe9a37",
   "metadata": {},
   "outputs": [],
   "source": [
    " def check_shadow_dom(driver, host_element, max_retries=5):\n",
    "        retry_count = 0\n",
    "        while retry_count < max_retries:\n",
    "            print(f'Checking Shadown DOM ...')\n",
    "            print(f'Trying {retry_count+1} of {max_retries} ...')\n",
    "            try:   \n",
    "                wait = WebDriverWait(driver, 10)\n",
    "                host_element = wait.until(EC.presence_of_element_located((By.CSS_SELECTOR, css_selector)))\n",
    "                driver.execute_script(\"arguments[0].scrollIntoView({behavior: 'smooth', block: 'center'});\", host_element)\n",
    "                has_shadow_dom = driver.execute_script(\"return arguments[0].shadowRoot !== null && arguments[0].shadowRoot !== 'None'\", host_element)\n",
    "                if has_shadow_dom: \n",
    "                    return has_shadow_dom\n",
    "                else: \n",
    "                    time.sleep(1) # Adjust the sleep duration as required.\n",
    "            except TimeoutException:\n",
    "                print(\"Timed out waiting for element.\")\n",
    "            retry_count += 1\n",
    "        print(\"Reached maximum retries. Unable to determine if element has shadow DOM.\")\n",
    "        return False\n",
    "\n",
    "def scrape_page(n):\n",
    "    s=''\n",
    "    try:\n",
    "        # url = \"https://www.dell.com/en-in/work/shop/business-laptop-notebook-computers/latitude-7440-laptop/spd/latitude-14-7440-2-in-1-laptop/n001l7440017in9_vp#ratings_section\"\n",
    "        url1 = \"https://www.dell.com/en-in/work/shop/business-laptop-notebook-computers/latitude-7440-laptop/spd/latitude-14-7440-2-in-1-laptop/n001l7440017in9_vp?bvstate=pg:\"\n",
    "        url3 = \"/ct:r#ratings_section\"\n",
    "        url = f'{url1}{n}{url3}'\n",
    "        print(f' Getting: {url}')\n",
    "    \n",
    "        options = Options()\n",
    "        # options.add_argument('--headless')\n",
    "        # options.add_argument('--start-maximized')\n",
    "    \n",
    "        # Create a Firefox driver\n",
    "        driver = webdriver.Firefox(options=options)\n",
    "    \n",
    "        driver.get(url)\n",
    "    \n",
    "        # Scroll to the element that is the host of the Shadow DOM\n",
    "        css_selector = \"#cfBazaarReviewWrapper > div:nth-child(2)\"\n",
    "        wait = WebDriverWait(driver, 10)\n",
    "        host_element = wait.until(EC.presence_of_element_located((By.CSS_SELECTOR, css_selector)))\n",
    "        driver.execute_script(\"arguments[0].scrollIntoView({behavior: 'smooth', block: 'center'});\", host_element)\n",
    "    \n",
    "        print(f'host_element: {host_element}')\n",
    "        \n",
    "        # Use JavaScript to check if the element has a shadow root\n",
    "        has_shadow_dom = check_shadow_dom(driver, host_element)\n",
    "\n",
    "       \n",
    "        \n",
    "        if has_shadow_dom :\n",
    "            print('Shadow DOM found.')\n",
    "            max_retries = 5\n",
    "            retry_count = 0\n",
    "            inner_element = None\n",
    "            while retry_count < max_retries:    \n",
    "                    # print(\"Host element (\\\"#cfBazaarReviewWrapper > div:nth-child(2)\\\") has a Shadow DOM\")\n",
    "                    # JavaScript to scroll to and get the handle of the inner element within the Shadow DOM\n",
    "                    script = \"\"\"\n",
    "                    const hostElement = arguments[0];\n",
    "                    const innerElementSelector = '#reviews_container';\n",
    "                    const innerElement = hostElement.shadowRoot.querySelector(innerElementSelector);\n",
    "                    if (innerElement) {\n",
    "                        innerElement.scrollIntoView({behavior: 'smooth', block: 'center'});\n",
    "                        return innerElement;\n",
    "                    }\n",
    "                    return null;\n",
    "                    \"\"\"\n",
    "                    \n",
    "                    # Execute the JavaScript to scroll to the inner element within the Shadow DOM and get its handle\n",
    "                    inner_element = driver.execute_script(script, host_element)\n",
    "        \n",
    "                    if inner_element is not None:\n",
    "                        # Inner element found, break out of the loop\n",
    "                        break\n",
    "                    else:\n",
    "                        # Increment retry count and wait before retrying\n",
    "                        retry_count += 1\n",
    "                        time.sleep(1)  # Adjust the sleep duration as needed\n",
    "        else:\n",
    "            raise Exception('Host element (\\\"#cfBazaarReviewWrapper > div:nth-child(2)\\\") does not have a Shadow DOM, or it is closed.')\n",
    "    \n",
    "        print(\"Shadow DOM element found: \", inner_element)\n",
    "        if inner_element:\n",
    "            # Find all 'section' elements with ids starting with 'bv-review-'\n",
    "            review_elements = inner_element.find_elements(By.CSS_SELECTOR, \"section[id^='bv-review-']\")\n",
    "    \n",
    "            # print(review_elements) \n",
    "            \n",
    "            # Loop through the collection of 'section' elements\n",
    "            for element in review_elements:\n",
    "                 # Scroll the section element into view\n",
    "                driver.execute_script(\"arguments[0].scrollIntoView(true);\", element)\n",
    "        \n",
    "                # Find the 'abbr' element within each 'section' element\n",
    "                abbr_element = element.find_element(By.TAG_NAME, 'abbr')\n",
    "                \n",
    "                # Get the title attribute of the 'abbr' element\n",
    "                abbr_title = abbr_element.get_attribute(\"title\")\n",
    "                # print(\"***** abbr_title: \", abbr_title)\n",
    "                s += f'\\n {abbr_title[0]},'\n",
    "    \n",
    "                # Find the div element with attribute data-bv-v='contentItem' under the 'section' element\n",
    "                content_item_div = element.find_element(By.CSS_SELECTOR, \"div[data-bv-v='contentItem']\")\n",
    "    \n",
    "                # Find the div element with attribute data-bv-v='contentHeader' under the 'contentItem' div\n",
    "                content_header_div = content_item_div.find_element(By.CSS_SELECTOR, \"div[data-bv-v='contentHeader']\")\n",
    "                \n",
    "                # Find the h3 element under the 'contentHeader' div\n",
    "                h3_element = content_header_div.find_element(By.TAG_NAME, \"h3\")\n",
    "    \n",
    "                # print(\"****** h3_element.text: \", h3_element.text)\n",
    "                s += f'{h3_element.text},'\n",
    "    \n",
    "                # Find the div tag with attribute data-bv-v='contentSummary' within the content item div\n",
    "                content_summary_div = content_item_div.find_element(By.CSS_SELECTOR, \"div[class='bv-rnr__sc-16dr7i1-3 kPwaVD']\")\n",
    "    \n",
    "                # print(\"***** content_summary_div.text: \", content_summary_div.text)\n",
    "                s += f'{content_summary_div.text}'\n",
    "        else:\n",
    "            print(\"Failed to find \\'reviews_container\\' element.\")\n",
    "    \n",
    "    except Exception as e:\n",
    "        print ('General Error: ', e)\n",
    "    \n",
    "    finally:\n",
    "        try:\n",
    "            # Clear the cache using JavaScript execution\n",
    "            driver.execute_script(\"window.localStorage.clear();\")\n",
    "            driver.execute_script(\"window.sessionStorage.clear();\")\n",
    "            driver.execute_script(\"window.location.reload();\")\n",
    "        except Exception as e:\n",
    "            print(\"Error clearing cache:\", e)\n",
    "        driver.quit()\n",
    "    return s"
   ]
  },
  {
   "cell_type": "markdown",
   "id": "761d25b2-f977-42de-99f5-e8e9c3d61e09",
   "metadata": {},
   "source": [
    "### <font color='a33668'> Calling the function with page number as param </font>"
   ]
  },
  {
   "cell_type": "code",
   "execution_count": 152,
   "id": "aad8c7ce-94e6-4d8d-998f-bfe17957d466",
   "metadata": {},
   "outputs": [
    {
     "name": "stdout",
     "output_type": "stream",
     "text": [
      " Getting: https://www.dell.com/en-in/work/shop/business-laptop-notebook-computers/latitude-7440-laptop/spd/latitude-14-7440-2-in-1-laptop/n001l7440017in9_vp?bvstate=pg:8/ct:r#ratings_section\n",
      "host_element: <selenium.webdriver.remote.webelement.WebElement (session=\"e140ddc4-4f20-4a6f-bcd3-d5ed16adfde9\", element=\"a54bc414-ad17-41c7-9a1b-955f1cbada4c\")>\n",
      "Checking Shadown DOM ...\n",
      "Trying 1 of 5 ...\n",
      "Checking Shadown DOM ...\n",
      "Trying 2 of 5 ...\n",
      "Shadow DOM found.\n",
      "Shadow DOM element found:  <selenium.webdriver.remote.webelement.WebElement (session=\"e140ddc4-4f20-4a6f-bcd3-d5ed16adfde9\", element=\"267e0833-e6b0-4005-b558-4be495b0f876\")>\n"
     ]
    }
   ],
   "source": [
    "s = ''\n",
    "# set the param of the following funtion to the review page number to extract\n",
    "s += scrape_page(8)"
   ]
  },
  {
   "cell_type": "markdown",
   "id": "bed65398-c877-4b46-8c95-c44368f6d227",
   "metadata": {},
   "source": [
    "### <font color='a33668'> Printing the CSV for a given page </font>\n",
    "\n",
    "- CSV Columns: Rating, Review Title, Review"
   ]
  },
  {
   "cell_type": "code",
   "execution_count": 153,
   "id": "9ea72044-0d2c-40be-ab6e-8eddd950b40e",
   "metadata": {},
   "outputs": [
    {
     "name": "stdout",
     "output_type": "stream",
     "text": [
      "\n",
      " 5,Great Laptop,Been a Dell user for over 20 years, and their Latitude range never disappoints. Beautiful design, super-fast, secure and love the extra security features with Dell Optimiser\n",
      " 5,Robust,Very robust laptop, very quick and battery lasts a long time.\n",
      " 5,Dell Latitude 7440 XCTO,Excellent unit! Really enjoying the performance, display, thermal control (low heat), and battery life(very good). Trackpad has a very nice feel as well. Overall, very pleased with the unit. If I had to make one small nitpick, I would just mention the keyboard itself feels a bit lower quality than the rest of the outstanding ultralight hardware build. Still an excellent system overall.\n",
      " 5,Perfect business laptop,Smooth large touchpad and comfortable keyboard. lots of port options for connectivity without needing to carry extra dongles\n",
      " 5,Great Device,Great device, fast and worth the money.\n",
      " 5,Impressive 2-in-1,Impressive 2-in-1. Nice configuration options. Speed, power,and durability are built into this laptop.\n",
      " 5,Great Business Laptop,Improvements to cooling and speaker configuration.\n",
      " 5,great new product !,I received my Dell 7440 as I was having problems with a less powerful unit and it has been great so far, very responsive and sems to have resolved my issues. I'm no tech head but I sell these to my customers, and it is great to really know why people choose Dell. Reliable, well built and a company that backs their products. You got to love it!\n",
      " 5,Dell Latitude 7440 Rating,We've had no issues with the Dell Latitude 7440 thus far. We have been able to put them in the hands of our users with our standard image with no issue,\n",
      " 4,Great standard for business.,Very nice standard machine.\n",
      " 4,Compact & Lightweight,Nice and small - size is perfect and lightweight\n",
      " 4,Latitude 7440 Review for business user,Love the feel and weight of the laptop but the processor seems a bit slower than I expected.\n",
      " 4,Nice laptop with good features,I haven't used it for very long and it is replacing an older XPS13. So far it performs well and the additional inch in the screen is nice. Having the power button in the normal keyboard field is going to take some time to become accustomed to. I use the laptop connected to a docking station and would like to have USB-C ports on both sides of the laptop. With them only on the left the dock cable has to run around to the far side and the Dell dock cables are short. It's troublesome but less so than changing to have the laptop on the righthand side of the desktop monitors. The speakers work pretty well. I like the placement so stereo sound is effective. The camera is pretty wide angled and has a good image.\n",
      " 4,Its clunkier than my 7200 model, but otherwise good,Its clunkier than my 7200 model, but otherwise good\n",
      " 4,Great machine but requires much configuration,Excellent performance. Initial setup was abysmal however. BIOS was all screwed up and required siginficant configuration before the laptop would boot into auto setup mode for Windows. The default mouse settings are FAR too sensitive. In general the default configuration for settings are WAY too conservative and thus far too much time is spent getting the laptop into a real world usable configuration.\n",
      " 4,Nice Blue, Nice Weight,New blue color looks nice, ultralight model offers noticeable weight reduction, but not by a lot\n",
      " 4,Sleek & Powerful,Product is sleek and great performance. very convenient for day to day work style.\n",
      " 4,Highly recommend,Laptop works great. We needed a solid laptop for the field that had 5g. This ticked every box. We also purchased the dock which works great as well.\n",
      " 4,So far so good.,So far we've had great results with this laptop. It seems Dell has ironed out some of the ssd and driver issues with the past couple of generations.\n",
      " 4,Bluetooth,The Bluetooth sometimes doesn't work or will connect to the device but not for the audio but other than that I love it!\n",
      " 4,Mouse and Power off button,Speed and memory power excellent. But the mouse sensitivity is too fast, and the function to slow it down does not work. Also the off power button next to the delete button is ridiculous!\n",
      " 4,Latitude 7440,Good laptop but battery don't last long. Not good for travel.\n",
      " 4,Good product for executive people's. The review details are as follows with rating out of 10. Design - 8 Hardware - 10 Ports - 8 Display - 9 Performance - 9 Battery - 9 WebCAM - 9 Audio - 9,Overall the product is good with a rating of 8 out of 10 and the price of value is 7 out of 10.\n",
      " 4,Windows 11P,Tough network start up with windows 11P\n",
      " 4,big step,major change on design and materials\n",
      " 4,Latitude 7440 Laptop review,Sleek design, enhanced webcam. Hopefully the processor and RAM ensure smooth multitasking.\n",
      " 4,Okay,The product was okay first few weeks..once you open excel...it hangs and hangs...Too slow to respond..Main reason for directly ftom Dell site is the quality of the product..I think, it was a wrong choice..\n",
      " 4,Latitude 7440 Laptop,fits client needs perfectly\n",
      " 4,Latitude 7440,The weight and features of the device are pleasant and align with other modern specs for PCs. The camera quality, while nice to include IR compatibility with Windows Hello, still feels like a \"laptop camera\" instead of a true \"webcam\". Low light performance is still limited and it would be nice to see a 4K upgrade. The weight of the laptop makes it extremely portable; however, the plastic materials make it also feel flimsy, as if carrying it loftily from a desk to a couch would risk breaking it if not fully supported with both hands or gripped by the spine instead of an edge. The screen looks good and does not seem to contribute much to eye fatigue and the keyboard and trackpad seem appropriately responsive. Boot up time is quick, as expected, and performing standard productivity workflows like web browsing, document editing, and video conferencing is smooth without noticable interference from the hardware. The available security features for enterprise-level management seem broad, although I have not fully explored those yet. Altogether this is a nice daily-driver that can fit a variety of standard workloads and workflows.\n",
      " 4,Great performance and design,Great performance and design\n"
     ]
    }
   ],
   "source": [
    "print(s)"
   ]
  },
  {
   "cell_type": "code",
   "execution_count": null,
   "id": "24dee198-f97d-4a5c-ab5b-0d215025a766",
   "metadata": {},
   "outputs": [],
   "source": []
  }
 ],
 "metadata": {
  "kernelspec": {
   "display_name": "Python 3 (ipykernel)",
   "language": "python",
   "name": "python3"
  },
  "language_info": {
   "codemirror_mode": {
    "name": "ipython",
    "version": 3
   },
   "file_extension": ".py",
   "mimetype": "text/x-python",
   "name": "python",
   "nbconvert_exporter": "python",
   "pygments_lexer": "ipython3",
   "version": "3.11.4"
  }
 },
 "nbformat": 4,
 "nbformat_minor": 5
}
